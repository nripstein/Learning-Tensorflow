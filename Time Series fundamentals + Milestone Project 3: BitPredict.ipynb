{
 "cells": [
  {
   "cell_type": "code",
   "execution_count": 1,
   "metadata": {
    "collapsed": true,
    "ExecuteTime": {
     "end_time": "2023-06-20T18:31:03.618004Z",
     "start_time": "2023-06-20T18:30:58.700881Z"
    }
   },
   "outputs": [],
   "source": [
    "import tensorflow as tf"
   ]
  },
  {
   "cell_type": "markdown",
   "source": [
    "# What we're going to cover\n",
    "\n",
    "1. Get time series data (the historical price of Bitcoin)\n",
    "2. Load in time series data using pandas/Python's CSV module\n",
    "3. Format data for a time series problem\n",
    "4. Creating training and test sets (the wrong way)\n",
    "5. Creating training and test sets (the right way)\n",
    "6. Visualizing time series data\n",
    "7. Turning time series data into a supervised learning problem (windowing)\n",
    "8. Preparing univariate and multivariate (more than one variable) data\n",
    "9. Evaluating a time series forecasting model\n",
    "10. Setting up a series of deep learning modelling experiments\n",
    "11. Dense (fully-connected) networks\n",
    "12. Sequence models (LSTM and 1D CNN)\n",
    "13. Ensembling (combining multiple models together)\n",
    "14. Multivariate models\n",
    "15. Replicating the N-BEATS algorithm using TensorFlow layer subclassing\n",
    "16. Creating a modelling checkpoint to save the best performing model during training\n",
    "17. Making predictions (forecasts) with a time series model\n",
    "18. Creating prediction intervals for time series model forecasts\n",
    "19. Discussing two different types of uncertainty in machine learning (data uncertainty and model uncertainty)\n",
    "20. Demonstrating why forecasting in an open system is BS (the turkey problem)"
   ],
   "metadata": {
    "collapsed": false
   }
  },
  {
   "cell_type": "code",
   "execution_count": null,
   "outputs": [],
   "source": [],
   "metadata": {
    "collapsed": false
   }
  }
 ],
 "metadata": {
  "kernelspec": {
   "display_name": "Python 3",
   "language": "python",
   "name": "python3"
  },
  "language_info": {
   "codemirror_mode": {
    "name": "ipython",
    "version": 2
   },
   "file_extension": ".py",
   "mimetype": "text/x-python",
   "name": "python",
   "nbconvert_exporter": "python",
   "pygments_lexer": "ipython2",
   "version": "2.7.6"
  }
 },
 "nbformat": 4,
 "nbformat_minor": 0
}
