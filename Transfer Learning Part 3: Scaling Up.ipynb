{
 "cells": [
  {
   "cell_type": "code",
   "execution_count": 3,
   "metadata": {
    "collapsed": true,
    "ExecuteTime": {
     "end_time": "2023-06-21T16:16:17.128630Z",
     "start_time": "2023-06-21T16:16:16.783272Z"
    }
   },
   "outputs": [],
   "source": [
    "import numpy as np\n",
    "import pandas as pd\n",
    "import matplotlib.pyplot as plt\n",
    "import tensorflow as tf # pip install tensorflow-macos\n",
    "import os\n",
    "from helper_functions import create_tensorboard_callback, plot_loss_curves, unzip_data, compare_historys, walk_through_dir\n",
    "import time"
   ]
  },
  {
   "cell_type": "code",
   "execution_count": null,
   "outputs": [],
   "source": [
    "os.chdir(os.path.join(os.getcwd(), \"data\"))"
   ],
   "metadata": {
    "collapsed": false
   }
  },
  {
   "cell_type": "code",
   "execution_count": 9,
   "outputs": [],
   "source": [
    "train_dir = \"101_food_classes_10_percent/train/\"\n",
    "test_dir = \"101_food_classes_10_percent/test/\""
   ],
   "metadata": {
    "collapsed": false,
    "ExecuteTime": {
     "end_time": "2023-06-21T16:19:47.293980Z",
     "start_time": "2023-06-21T16:19:47.287515Z"
    }
   }
  },
  {
   "cell_type": "code",
   "execution_count": 10,
   "outputs": [
    {
     "name": "stdout",
     "output_type": "stream",
     "text": [
      "There are 2 directories and 0 images in '101_food_classes_10_percent'.\n",
      "There are 101 directories and 0 images in '101_food_classes_10_percent/test'.\n",
      "There are 0 directories and 250 images in '101_food_classes_10_percent/test/foie_gras'.\n",
      "There are 0 directories and 250 images in '101_food_classes_10_percent/test/club_sandwich'.\n",
      "There are 0 directories and 250 images in '101_food_classes_10_percent/test/cheese_plate'.\n",
      "There are 0 directories and 250 images in '101_food_classes_10_percent/test/cup_cakes'.\n",
      "There are 0 directories and 250 images in '101_food_classes_10_percent/test/garlic_bread'.\n",
      "There are 0 directories and 250 images in '101_food_classes_10_percent/test/gnocchi'.\n",
      "There are 0 directories and 250 images in '101_food_classes_10_percent/test/ice_cream'.\n",
      "There are 0 directories and 250 images in '101_food_classes_10_percent/test/samosa'.\n",
      "There are 0 directories and 250 images in '101_food_classes_10_percent/test/donuts'.\n",
      "There are 0 directories and 250 images in '101_food_classes_10_percent/test/tuna_tartare'.\n",
      "There are 0 directories and 250 images in '101_food_classes_10_percent/test/filet_mignon'.\n",
      "There are 0 directories and 250 images in '101_food_classes_10_percent/test/seaweed_salad'.\n",
      "There are 0 directories and 250 images in '101_food_classes_10_percent/test/french_toast'.\n",
      "There are 0 directories and 250 images in '101_food_classes_10_percent/test/chicken_curry'.\n",
      "There are 0 directories and 250 images in '101_food_classes_10_percent/test/shrimp_and_grits'.\n",
      "There are 0 directories and 250 images in '101_food_classes_10_percent/test/steak'.\n",
      "There are 0 directories and 250 images in '101_food_classes_10_percent/test/cheesecake'.\n",
      "There are 0 directories and 250 images in '101_food_classes_10_percent/test/red_velvet_cake'.\n",
      "There are 0 directories and 250 images in '101_food_classes_10_percent/test/waffles'.\n",
      "There are 0 directories and 250 images in '101_food_classes_10_percent/test/churros'.\n",
      "There are 0 directories and 250 images in '101_food_classes_10_percent/test/gyoza'.\n",
      "There are 0 directories and 250 images in '101_food_classes_10_percent/test/lobster_roll_sandwich'.\n",
      "There are 0 directories and 250 images in '101_food_classes_10_percent/test/huevos_rancheros'.\n",
      "There are 0 directories and 250 images in '101_food_classes_10_percent/test/breakfast_burrito'.\n",
      "There are 0 directories and 250 images in '101_food_classes_10_percent/test/grilled_cheese_sandwich'.\n",
      "There are 0 directories and 250 images in '101_food_classes_10_percent/test/spaghetti_bolognese'.\n",
      "There are 0 directories and 250 images in '101_food_classes_10_percent/test/falafel'.\n",
      "There are 0 directories and 250 images in '101_food_classes_10_percent/test/poutine'.\n",
      "There are 0 directories and 250 images in '101_food_classes_10_percent/test/greek_salad'.\n",
      "There are 0 directories and 250 images in '101_food_classes_10_percent/test/beef_tartare'.\n",
      "There are 0 directories and 250 images in '101_food_classes_10_percent/test/fried_calamari'.\n",
      "There are 0 directories and 250 images in '101_food_classes_10_percent/test/guacamole'.\n",
      "There are 0 directories and 250 images in '101_food_classes_10_percent/test/ravioli'.\n",
      "There are 0 directories and 250 images in '101_food_classes_10_percent/test/lobster_bisque'.\n",
      "There are 0 directories and 250 images in '101_food_classes_10_percent/test/beet_salad'.\n",
      "There are 0 directories and 250 images in '101_food_classes_10_percent/test/risotto'.\n",
      "There are 0 directories and 250 images in '101_food_classes_10_percent/test/crab_cakes'.\n",
      "There are 0 directories and 250 images in '101_food_classes_10_percent/test/strawberry_shortcake'.\n",
      "There are 0 directories and 250 images in '101_food_classes_10_percent/test/edamame'.\n",
      "There are 0 directories and 250 images in '101_food_classes_10_percent/test/ceviche'.\n",
      "There are 0 directories and 250 images in '101_food_classes_10_percent/test/hot_and_sour_soup'.\n",
      "There are 0 directories and 250 images in '101_food_classes_10_percent/test/spring_rolls'.\n",
      "There are 0 directories and 250 images in '101_food_classes_10_percent/test/sashimi'.\n",
      "There are 0 directories and 250 images in '101_food_classes_10_percent/test/paella'.\n",
      "There are 0 directories and 250 images in '101_food_classes_10_percent/test/clam_chowder'.\n",
      "There are 0 directories and 250 images in '101_food_classes_10_percent/test/miso_soup'.\n",
      "There are 0 directories and 250 images in '101_food_classes_10_percent/test/escargots'.\n",
      "There are 0 directories and 250 images in '101_food_classes_10_percent/test/hot_dog'.\n",
      "There are 0 directories and 250 images in '101_food_classes_10_percent/test/pulled_pork_sandwich'.\n",
      "There are 0 directories and 250 images in '101_food_classes_10_percent/test/bruschetta'.\n",
      "There are 0 directories and 250 images in '101_food_classes_10_percent/test/panna_cotta'.\n",
      "There are 0 directories and 250 images in '101_food_classes_10_percent/test/fish_and_chips'.\n",
      "There are 0 directories and 250 images in '101_food_classes_10_percent/test/pad_thai'.\n",
      "There are 0 directories and 250 images in '101_food_classes_10_percent/test/tiramisu'.\n",
      "There are 0 directories and 250 images in '101_food_classes_10_percent/test/takoyaki'.\n",
      "There are 0 directories and 250 images in '101_food_classes_10_percent/test/macarons'.\n",
      "There are 0 directories and 250 images in '101_food_classes_10_percent/test/apple_pie'.\n",
      "There are 0 directories and 250 images in '101_food_classes_10_percent/test/cannoli'.\n",
      "There are 0 directories and 250 images in '101_food_classes_10_percent/test/scallops'.\n",
      "There are 0 directories and 250 images in '101_food_classes_10_percent/test/frozen_yogurt'.\n",
      "There are 0 directories and 250 images in '101_food_classes_10_percent/test/chicken_quesadilla'.\n",
      "There are 0 directories and 250 images in '101_food_classes_10_percent/test/mussels'.\n",
      "There are 0 directories and 250 images in '101_food_classes_10_percent/test/beef_carpaccio'.\n",
      "There are 0 directories and 250 images in '101_food_classes_10_percent/test/eggs_benedict'.\n",
      "There are 0 directories and 250 images in '101_food_classes_10_percent/test/spaghetti_carbonara'.\n",
      "There are 0 directories and 250 images in '101_food_classes_10_percent/test/omelette'.\n",
      "There are 0 directories and 250 images in '101_food_classes_10_percent/test/sushi'.\n",
      "There are 0 directories and 250 images in '101_food_classes_10_percent/test/chocolate_mousse'.\n",
      "There are 0 directories and 250 images in '101_food_classes_10_percent/test/beignets'.\n",
      "There are 0 directories and 250 images in '101_food_classes_10_percent/test/bibimbap'.\n",
      "There are 0 directories and 250 images in '101_food_classes_10_percent/test/hummus'.\n",
      "There are 0 directories and 250 images in '101_food_classes_10_percent/test/pork_chop'.\n",
      "There are 0 directories and 250 images in '101_food_classes_10_percent/test/chicken_wings'.\n",
      "There are 0 directories and 250 images in '101_food_classes_10_percent/test/grilled_salmon'.\n",
      "There are 0 directories and 250 images in '101_food_classes_10_percent/test/chocolate_cake'.\n",
      "There are 0 directories and 250 images in '101_food_classes_10_percent/test/tacos'.\n",
      "There are 0 directories and 250 images in '101_food_classes_10_percent/test/hamburger'.\n",
      "There are 0 directories and 250 images in '101_food_classes_10_percent/test/baby_back_ribs'.\n",
      "There are 0 directories and 250 images in '101_food_classes_10_percent/test/pancakes'.\n",
      "There are 0 directories and 250 images in '101_food_classes_10_percent/test/prime_rib'.\n",
      "There are 0 directories and 250 images in '101_food_classes_10_percent/test/pizza'.\n",
      "There are 0 directories and 250 images in '101_food_classes_10_percent/test/nachos'.\n",
      "There are 0 directories and 250 images in '101_food_classes_10_percent/test/macaroni_and_cheese'.\n",
      "There are 0 directories and 250 images in '101_food_classes_10_percent/test/bread_pudding'.\n",
      "There are 0 directories and 250 images in '101_food_classes_10_percent/test/ramen'.\n",
      "There are 0 directories and 250 images in '101_food_classes_10_percent/test/croque_madame'.\n",
      "There are 0 directories and 250 images in '101_food_classes_10_percent/test/lasagna'.\n",
      "There are 0 directories and 250 images in '101_food_classes_10_percent/test/peking_duck'.\n",
      "There are 0 directories and 250 images in '101_food_classes_10_percent/test/deviled_eggs'.\n",
      "There are 0 directories and 250 images in '101_food_classes_10_percent/test/french_fries'.\n",
      "There are 0 directories and 250 images in '101_food_classes_10_percent/test/dumplings'.\n",
      "There are 0 directories and 250 images in '101_food_classes_10_percent/test/fried_rice'.\n",
      "There are 0 directories and 250 images in '101_food_classes_10_percent/test/french_onion_soup'.\n",
      "There are 0 directories and 250 images in '101_food_classes_10_percent/test/pho'.\n",
      "There are 0 directories and 250 images in '101_food_classes_10_percent/test/caprese_salad'.\n",
      "There are 0 directories and 250 images in '101_food_classes_10_percent/test/oysters'.\n",
      "There are 0 directories and 250 images in '101_food_classes_10_percent/test/baklava'.\n",
      "There are 0 directories and 250 images in '101_food_classes_10_percent/test/creme_brulee'.\n",
      "There are 0 directories and 250 images in '101_food_classes_10_percent/test/carrot_cake'.\n",
      "There are 0 directories and 250 images in '101_food_classes_10_percent/test/onion_rings'.\n",
      "There are 0 directories and 250 images in '101_food_classes_10_percent/test/caesar_salad'.\n",
      "There are 101 directories and 0 images in '101_food_classes_10_percent/train'.\n",
      "There are 0 directories and 75 images in '101_food_classes_10_percent/train/foie_gras'.\n",
      "There are 0 directories and 75 images in '101_food_classes_10_percent/train/club_sandwich'.\n",
      "There are 0 directories and 75 images in '101_food_classes_10_percent/train/cheese_plate'.\n",
      "There are 0 directories and 75 images in '101_food_classes_10_percent/train/cup_cakes'.\n",
      "There are 0 directories and 75 images in '101_food_classes_10_percent/train/garlic_bread'.\n",
      "There are 0 directories and 75 images in '101_food_classes_10_percent/train/gnocchi'.\n",
      "There are 0 directories and 75 images in '101_food_classes_10_percent/train/ice_cream'.\n",
      "There are 0 directories and 75 images in '101_food_classes_10_percent/train/samosa'.\n",
      "There are 0 directories and 75 images in '101_food_classes_10_percent/train/donuts'.\n",
      "There are 0 directories and 75 images in '101_food_classes_10_percent/train/tuna_tartare'.\n",
      "There are 0 directories and 75 images in '101_food_classes_10_percent/train/filet_mignon'.\n",
      "There are 0 directories and 75 images in '101_food_classes_10_percent/train/seaweed_salad'.\n",
      "There are 0 directories and 75 images in '101_food_classes_10_percent/train/french_toast'.\n",
      "There are 0 directories and 75 images in '101_food_classes_10_percent/train/chicken_curry'.\n",
      "There are 0 directories and 75 images in '101_food_classes_10_percent/train/shrimp_and_grits'.\n",
      "There are 0 directories and 75 images in '101_food_classes_10_percent/train/steak'.\n",
      "There are 0 directories and 75 images in '101_food_classes_10_percent/train/cheesecake'.\n",
      "There are 0 directories and 75 images in '101_food_classes_10_percent/train/red_velvet_cake'.\n",
      "There are 0 directories and 75 images in '101_food_classes_10_percent/train/waffles'.\n",
      "There are 0 directories and 75 images in '101_food_classes_10_percent/train/churros'.\n",
      "There are 0 directories and 75 images in '101_food_classes_10_percent/train/gyoza'.\n",
      "There are 0 directories and 75 images in '101_food_classes_10_percent/train/lobster_roll_sandwich'.\n",
      "There are 0 directories and 75 images in '101_food_classes_10_percent/train/huevos_rancheros'.\n",
      "There are 0 directories and 75 images in '101_food_classes_10_percent/train/breakfast_burrito'.\n",
      "There are 0 directories and 75 images in '101_food_classes_10_percent/train/grilled_cheese_sandwich'.\n",
      "There are 0 directories and 75 images in '101_food_classes_10_percent/train/spaghetti_bolognese'.\n",
      "There are 0 directories and 75 images in '101_food_classes_10_percent/train/falafel'.\n",
      "There are 0 directories and 75 images in '101_food_classes_10_percent/train/poutine'.\n",
      "There are 0 directories and 75 images in '101_food_classes_10_percent/train/greek_salad'.\n",
      "There are 0 directories and 75 images in '101_food_classes_10_percent/train/beef_tartare'.\n",
      "There are 0 directories and 75 images in '101_food_classes_10_percent/train/fried_calamari'.\n",
      "There are 0 directories and 75 images in '101_food_classes_10_percent/train/guacamole'.\n",
      "There are 0 directories and 75 images in '101_food_classes_10_percent/train/ravioli'.\n",
      "There are 0 directories and 75 images in '101_food_classes_10_percent/train/lobster_bisque'.\n",
      "There are 0 directories and 75 images in '101_food_classes_10_percent/train/beet_salad'.\n",
      "There are 0 directories and 75 images in '101_food_classes_10_percent/train/risotto'.\n",
      "There are 0 directories and 75 images in '101_food_classes_10_percent/train/crab_cakes'.\n",
      "There are 0 directories and 75 images in '101_food_classes_10_percent/train/strawberry_shortcake'.\n",
      "There are 0 directories and 75 images in '101_food_classes_10_percent/train/edamame'.\n",
      "There are 0 directories and 75 images in '101_food_classes_10_percent/train/ceviche'.\n",
      "There are 0 directories and 75 images in '101_food_classes_10_percent/train/hot_and_sour_soup'.\n",
      "There are 0 directories and 75 images in '101_food_classes_10_percent/train/spring_rolls'.\n",
      "There are 0 directories and 75 images in '101_food_classes_10_percent/train/sashimi'.\n",
      "There are 0 directories and 75 images in '101_food_classes_10_percent/train/paella'.\n",
      "There are 0 directories and 75 images in '101_food_classes_10_percent/train/clam_chowder'.\n",
      "There are 0 directories and 75 images in '101_food_classes_10_percent/train/miso_soup'.\n",
      "There are 0 directories and 75 images in '101_food_classes_10_percent/train/escargots'.\n",
      "There are 0 directories and 75 images in '101_food_classes_10_percent/train/hot_dog'.\n",
      "There are 0 directories and 75 images in '101_food_classes_10_percent/train/pulled_pork_sandwich'.\n",
      "There are 0 directories and 75 images in '101_food_classes_10_percent/train/bruschetta'.\n",
      "There are 0 directories and 75 images in '101_food_classes_10_percent/train/panna_cotta'.\n",
      "There are 0 directories and 75 images in '101_food_classes_10_percent/train/fish_and_chips'.\n",
      "There are 0 directories and 75 images in '101_food_classes_10_percent/train/pad_thai'.\n",
      "There are 0 directories and 75 images in '101_food_classes_10_percent/train/tiramisu'.\n",
      "There are 0 directories and 75 images in '101_food_classes_10_percent/train/takoyaki'.\n",
      "There are 0 directories and 75 images in '101_food_classes_10_percent/train/macarons'.\n",
      "There are 0 directories and 75 images in '101_food_classes_10_percent/train/apple_pie'.\n",
      "There are 0 directories and 75 images in '101_food_classes_10_percent/train/cannoli'.\n",
      "There are 0 directories and 75 images in '101_food_classes_10_percent/train/scallops'.\n",
      "There are 0 directories and 75 images in '101_food_classes_10_percent/train/frozen_yogurt'.\n",
      "There are 0 directories and 75 images in '101_food_classes_10_percent/train/chicken_quesadilla'.\n",
      "There are 0 directories and 75 images in '101_food_classes_10_percent/train/mussels'.\n",
      "There are 0 directories and 75 images in '101_food_classes_10_percent/train/beef_carpaccio'.\n",
      "There are 0 directories and 75 images in '101_food_classes_10_percent/train/eggs_benedict'.\n",
      "There are 0 directories and 75 images in '101_food_classes_10_percent/train/spaghetti_carbonara'.\n",
      "There are 0 directories and 75 images in '101_food_classes_10_percent/train/omelette'.\n",
      "There are 0 directories and 75 images in '101_food_classes_10_percent/train/sushi'.\n",
      "There are 0 directories and 75 images in '101_food_classes_10_percent/train/chocolate_mousse'.\n",
      "There are 0 directories and 75 images in '101_food_classes_10_percent/train/beignets'.\n",
      "There are 0 directories and 75 images in '101_food_classes_10_percent/train/bibimbap'.\n",
      "There are 0 directories and 75 images in '101_food_classes_10_percent/train/hummus'.\n",
      "There are 0 directories and 75 images in '101_food_classes_10_percent/train/pork_chop'.\n",
      "There are 0 directories and 75 images in '101_food_classes_10_percent/train/chicken_wings'.\n",
      "There are 0 directories and 75 images in '101_food_classes_10_percent/train/grilled_salmon'.\n",
      "There are 0 directories and 75 images in '101_food_classes_10_percent/train/chocolate_cake'.\n",
      "There are 0 directories and 75 images in '101_food_classes_10_percent/train/tacos'.\n",
      "There are 0 directories and 75 images in '101_food_classes_10_percent/train/hamburger'.\n",
      "There are 0 directories and 75 images in '101_food_classes_10_percent/train/baby_back_ribs'.\n",
      "There are 0 directories and 75 images in '101_food_classes_10_percent/train/pancakes'.\n",
      "There are 0 directories and 75 images in '101_food_classes_10_percent/train/prime_rib'.\n",
      "There are 0 directories and 75 images in '101_food_classes_10_percent/train/pizza'.\n",
      "There are 0 directories and 75 images in '101_food_classes_10_percent/train/nachos'.\n",
      "There are 0 directories and 75 images in '101_food_classes_10_percent/train/macaroni_and_cheese'.\n",
      "There are 0 directories and 75 images in '101_food_classes_10_percent/train/bread_pudding'.\n",
      "There are 0 directories and 75 images in '101_food_classes_10_percent/train/ramen'.\n",
      "There are 0 directories and 75 images in '101_food_classes_10_percent/train/croque_madame'.\n",
      "There are 0 directories and 75 images in '101_food_classes_10_percent/train/lasagna'.\n",
      "There are 0 directories and 75 images in '101_food_classes_10_percent/train/peking_duck'.\n",
      "There are 0 directories and 75 images in '101_food_classes_10_percent/train/deviled_eggs'.\n",
      "There are 0 directories and 75 images in '101_food_classes_10_percent/train/french_fries'.\n",
      "There are 0 directories and 75 images in '101_food_classes_10_percent/train/dumplings'.\n",
      "There are 0 directories and 75 images in '101_food_classes_10_percent/train/fried_rice'.\n",
      "There are 0 directories and 75 images in '101_food_classes_10_percent/train/french_onion_soup'.\n",
      "There are 0 directories and 75 images in '101_food_classes_10_percent/train/pho'.\n",
      "There are 0 directories and 75 images in '101_food_classes_10_percent/train/caprese_salad'.\n",
      "There are 0 directories and 75 images in '101_food_classes_10_percent/train/oysters'.\n",
      "There are 0 directories and 75 images in '101_food_classes_10_percent/train/baklava'.\n",
      "There are 0 directories and 75 images in '101_food_classes_10_percent/train/creme_brulee'.\n",
      "There are 0 directories and 75 images in '101_food_classes_10_percent/train/carrot_cake'.\n",
      "There are 0 directories and 75 images in '101_food_classes_10_percent/train/onion_rings'.\n",
      "There are 0 directories and 75 images in '101_food_classes_10_percent/train/caesar_salad'.\n"
     ]
    }
   ],
   "source": [
    "# How many images/classes are there?\n",
    "walk_through_dir(\"101_food_classes_10_percent\")"
   ],
   "metadata": {
    "collapsed": false,
    "ExecuteTime": {
     "end_time": "2023-06-21T16:19:48.188786Z",
     "start_time": "2023-06-21T16:19:48.138155Z"
    }
   }
  },
  {
   "cell_type": "code",
   "execution_count": 11,
   "outputs": [
    {
     "name": "stdout",
     "output_type": "stream",
     "text": [
      "Found 7575 files belonging to 101 classes.\n",
      "Found 25250 files belonging to 101 classes.\n"
     ]
    }
   ],
   "source": [
    "# Setup data inputs\n",
    "IMG_SIZE = (224, 224)\n",
    "train_data_all_10_percent = tf.keras.preprocessing.image_dataset_from_directory(train_dir,\n",
    "                                                                                label_mode=\"categorical\",\n",
    "                                                                                image_size=IMG_SIZE)\n",
    "\n",
    "test_data = tf.keras.preprocessing.image_dataset_from_directory(test_dir,\n",
    "                                                                label_mode=\"categorical\",\n",
    "                                                                image_size=IMG_SIZE,\n",
    "                                                                shuffle=False) # don't shuffle test data for prediction analysis\n"
   ],
   "metadata": {
    "collapsed": false,
    "ExecuteTime": {
     "end_time": "2023-06-21T16:23:03.465609Z",
     "start_time": "2023-06-21T16:23:02.389524Z"
    }
   }
  },
  {
   "cell_type": "markdown",
   "source": [
    "# Outlining the model we're going to build and building a ModelCheckpoint callback"
   ],
   "metadata": {
    "collapsed": false
   }
  },
  {
   "cell_type": "code",
   "execution_count": 12,
   "outputs": [],
   "source": [
    "# Create checkpoint callback to save model for later use\n",
    "checkpoint_path = \"101_classes_10_percent_data_model_checkpoint\"\n",
    "checkpoint_callback = tf.keras.callbacks.ModelCheckpoint(checkpoint_path,\n",
    "                                                         save_weights_only=True, # save only the model weights\n",
    "                                                         monitor=\"val_accuracy\", # save the model weights which score the best validation accuracy\n",
    "                                                         save_best_only=True) # only keep the best model weights on file (delete the rest)\n"
   ],
   "metadata": {
    "collapsed": false,
    "ExecuteTime": {
     "end_time": "2023-06-21T16:23:16.675749Z",
     "start_time": "2023-06-21T16:23:16.670771Z"
    }
   }
  },
  {
   "cell_type": "markdown",
   "source": [
    "# Creating a data augmentation layer to use with our model"
   ],
   "metadata": {
    "collapsed": false
   }
  },
  {
   "cell_type": "code",
   "execution_count": 15,
   "outputs": [],
   "source": [
    "data_augmentation = tf.keras.models.Sequential([\n",
    "  tf.keras.layers.RandomFlip(\"horizontal\"),\n",
    "  tf.keras.layers.RandomRotation(0.2),\n",
    "  tf.keras.layers.RandomZoom(0.2),\n",
    "  tf.keras.layers.RandomHeight(0.2),\n",
    "  tf.keras.layers.RandomWidth(0.2),\n",
    "  # preprocessing.Rescaling(1./255) # keep for ResNet50V2, remove for EfficientNetB0\n",
    "], name =\"data_augmentation\")"
   ],
   "metadata": {
    "collapsed": false,
    "ExecuteTime": {
     "end_time": "2023-06-21T16:28:56.759658Z",
     "start_time": "2023-06-21T16:28:56.749517Z"
    }
   }
  },
  {
   "cell_type": "markdown",
   "source": [
    "# Creating a headless EfficientNetB0 model with data augmentation built in"
   ],
   "metadata": {
    "collapsed": false
   }
  },
  {
   "cell_type": "code",
   "execution_count": 17,
   "outputs": [],
   "source": [
    "from tensorflow.keras import layers\n",
    "# Setup base model and freeze its layers (this will extract features)\n",
    "base_model = tf.keras.applications.efficientnet.EfficientNetB0(include_top=False)\n",
    "base_model.trainable = False\n",
    "\n",
    "# Setup model architecture with trainable top layers\n",
    "inputs = layers.Input(shape=(224, 224, 3), name=\"input_layer\") # shape of input image\n",
    "x = data_augmentation(inputs) # augment images (only happens during training)\n",
    "x = base_model(x, training=False) # put the base model in inference mode so we can use it to extract features without updating the weights\n",
    "x = layers.GlobalAveragePooling2D(name=\"global_average_pooling\")(x) # pool the outputs of the base model\n",
    "outputs = layers.Dense(len(train_data_all_10_percent.class_names), activation=\"softmax\", name=\"output_layer\")(x) # same number of outputs as classes\n",
    "model = tf.keras.Model(inputs, outputs)"
   ],
   "metadata": {
    "collapsed": false,
    "ExecuteTime": {
     "end_time": "2023-06-21T16:29:59.619712Z",
     "start_time": "2023-06-21T16:29:58.589922Z"
    }
   }
  },
  {
   "cell_type": "code",
   "execution_count": 18,
   "outputs": [
    {
     "name": "stdout",
     "output_type": "stream",
     "text": [
      "Model: \"model\"\n",
      "_________________________________________________________________\n",
      " Layer (type)                Output Shape              Param #   \n",
      "=================================================================\n",
      " input_layer (InputLayer)    [(None, 224, 224, 3)]     0         \n",
      "                                                                 \n",
      " data_augmentation (Sequenti  (None, None, None, 3)    0         \n",
      " al)                                                             \n",
      "                                                                 \n",
      " efficientnetb0 (Functional)  (None, None, None, 1280)  4049571  \n",
      "                                                                 \n",
      " global_average_pooling (Glo  (None, 1280)             0         \n",
      " balAveragePooling2D)                                            \n",
      "                                                                 \n",
      " output_layer (Dense)        (None, 101)               129381    \n",
      "                                                                 \n",
      "=================================================================\n",
      "Total params: 4,178,952\n",
      "Trainable params: 129,381\n",
      "Non-trainable params: 4,049,571\n",
      "_________________________________________________________________\n"
     ]
    }
   ],
   "source": [
    "model.summary()"
   ],
   "metadata": {
    "collapsed": false,
    "ExecuteTime": {
     "end_time": "2023-06-21T16:31:18.499495Z",
     "start_time": "2023-06-21T16:31:18.456367Z"
    }
   }
  },
  {
   "cell_type": "markdown",
   "source": [
    "# Fitting and evaluating our biggest transfer learning model yet"
   ],
   "metadata": {
    "collapsed": false
   }
  },
  {
   "cell_type": "code",
   "execution_count": 19,
   "outputs": [
    {
     "name": "stderr",
     "output_type": "stream",
     "text": [
      "WARNING:absl:At this time, the v2.11+ optimizer `tf.keras.optimizers.Adam` runs slowly on M1/M2 Macs, please use the legacy Keras optimizer instead, located at `tf.keras.optimizers.legacy.Adam`.\n",
      "WARNING:absl:There is a known slowdown when using v2.11+ Keras optimizers on M1/M2 Macs. Falling back to the legacy Keras optimizer, i.e., `tf.keras.optimizers.legacy.Adam`.\n"
     ]
    }
   ],
   "source": [
    "# Compile\n",
    "model.compile(loss=\"categorical_crossentropy\",\n",
    "              optimizer=tf.keras.optimizers.Adam(), # use Adam with default settings\n",
    "              metrics=[\"accuracy\"])"
   ],
   "metadata": {
    "collapsed": false,
    "ExecuteTime": {
     "end_time": "2023-06-21T16:31:27.459284Z",
     "start_time": "2023-06-21T16:31:27.448103Z"
    }
   }
  },
  {
   "cell_type": "code",
   "execution_count": 20,
   "outputs": [
    {
     "name": "stdout",
     "output_type": "stream",
     "text": [
      "Epoch 1/5\n"
     ]
    },
    {
     "name": "stderr",
     "output_type": "stream",
     "text": [
      "2023-06-21 12:31:37.715735: W tensorflow/tsl/platform/profile_utils/cpu_utils.cc:128] Failed to get CPU frequency: 0 Hz\n"
     ]
    },
    {
     "name": "stdout",
     "output_type": "stream",
     "text": [
      "237/237 [==============================] - 179s 746ms/step - loss: 3.3793 - accuracy: 0.2701 - val_loss: 2.5653 - val_accuracy: 0.4391\n",
      "Epoch 2/5\n",
      "237/237 [==============================] - 192s 810ms/step - loss: 2.1957 - accuracy: 0.5002 - val_loss: 2.1099 - val_accuracy: 0.4910\n",
      "Epoch 3/5\n",
      "237/237 [==============================] - 165s 695ms/step - loss: 1.8279 - accuracy: 0.5674 - val_loss: 1.9432 - val_accuracy: 0.5109\n",
      "Epoch 4/5\n",
      "237/237 [==============================] - 157s 664ms/step - loss: 1.6035 - accuracy: 0.6102 - val_loss: 1.8373 - val_accuracy: 0.5228\n",
      "Epoch 5/5\n",
      "237/237 [==============================] - 149s 630ms/step - loss: 1.4632 - accuracy: 0.6375 - val_loss: 1.8045 - val_accuracy: 0.5294\n"
     ]
    }
   ],
   "source": [
    "history_all_classes_10_percent = model.fit(train_data_all_10_percent,\n",
    "                                           epochs=5, # fit for 5 epochs to keep experiments quick\n",
    "                                           validation_data=test_data,\n",
    "                                           validation_steps=int(0.1 * len(test_data)), # evaluate on smaller portion of test data\n",
    "                                           callbacks=[checkpoint_callback]) # save best model weights to file"
   ],
   "metadata": {
    "collapsed": false,
    "ExecuteTime": {
     "end_time": "2023-06-21T16:45:37.806853Z",
     "start_time": "2023-06-21T16:31:35.860842Z"
    }
   }
  },
  {
   "cell_type": "code",
   "execution_count": 21,
   "outputs": [
    {
     "name": "stdout",
     "output_type": "stream",
     "text": [
      "790/790 [==============================] - 317s 401ms/step - loss: 1.5791 - accuracy: 0.5841\n"
     ]
    },
    {
     "data": {
      "text/plain": "[1.579073429107666, 0.5840792059898376]"
     },
     "execution_count": 21,
     "metadata": {},
     "output_type": "execute_result"
    }
   ],
   "source": [
    "results_feature_extraction_model = model.evaluate(test_data)\n",
    "results_feature_extraction_model"
   ],
   "metadata": {
    "collapsed": false,
    "ExecuteTime": {
     "end_time": "2023-06-21T16:50:54.983549Z",
     "start_time": "2023-06-21T16:45:37.808810Z"
    }
   }
  },
  {
   "cell_type": "code",
   "execution_count": 22,
   "outputs": [
    {
     "data": {
      "text/plain": "<Figure size 640x480 with 1 Axes>",
      "image/png": "[encoded data removed]"
     },
     "metadata": {},
     "output_type": "display_data"
    },
    {
     "data": {
      "text/plain": "<Figure size 640x480 with 1 Axes>",
      "image/png": "[encoded data removed]"
     },
     "metadata": {},
     "output_type": "display_data"
    }
   ],
   "source": [
    "plot_loss_curves(history_all_classes_10_percent)"
   ],
   "metadata": {
    "collapsed": false,
    "ExecuteTime": {
     "end_time": "2023-06-21T16:50:55.349974Z",
     "start_time": "2023-06-21T16:50:54.983036Z"
    }
   }
  },
  {
   "cell_type": "markdown",
   "source": [
    "# Unfreezing some layers in our base model to prepare for fine-tuning"
   ],
   "metadata": {
    "collapsed": false
   }
  },
  {
   "cell_type": "code",
   "execution_count": 23,
   "outputs": [
    {
     "name": "stderr",
     "output_type": "stream",
     "text": [
      "WARNING:absl:At this time, the v2.11+ optimizer `tf.keras.optimizers.Adam` runs slowly on M1/M2 Macs, please use the legacy Keras optimizer instead, located at `tf.keras.optimizers.legacy.Adam`.\n",
      "WARNING:absl:There is a known slowdown when using v2.11+ Keras optimizers on M1/M2 Macs. Falling back to the legacy Keras optimizer, i.e., `tf.keras.optimizers.legacy.Adam`.\n"
     ]
    }
   ],
   "source": [
    "# Unfreeze all of the layers in the base model\n",
    "base_model.trainable = True\n",
    "\n",
    "# Refreeze every layer except for the last 5\n",
    "for layer in base_model.layers[:-5]:\n",
    "  layer.trainable = False\n",
    "# Recompile model with lower learning rate\n",
    "model.compile(loss='categorical_crossentropy',\n",
    "              optimizer=tf.keras.optimizers.Adam(1e-4), # 10x lower learning rate than default\n",
    "              metrics=['accuracy'])"
   ],
   "metadata": {
    "collapsed": false,
    "ExecuteTime": {
     "end_time": "2023-06-21T16:50:55.361791Z",
     "start_time": "2023-06-21T16:50:55.349361Z"
    }
   }
  },
  {
   "cell_type": "code",
   "execution_count": 24,
   "outputs": [
    {
     "name": "stdout",
     "output_type": "stream",
     "text": [
      "input_layer True\n",
      "data_augmentation True\n",
      "efficientnetb0 True\n",
      "global_average_pooling True\n",
      "output_layer True\n"
     ]
    }
   ],
   "source": [
    "# What layers in the model are trainable?\n",
    "for layer in model.layers:\n",
    "  print(layer.name, layer.trainable)"
   ],
   "metadata": {
    "collapsed": false,
    "ExecuteTime": {
     "end_time": "2023-06-21T16:50:55.363580Z",
     "start_time": "2023-06-21T16:50:55.359570Z"
    }
   }
  },
  {
   "cell_type": "markdown",
   "source": [
    "# Fine-tuning our feature extraction model and evaluating its performance"
   ],
   "metadata": {
    "collapsed": false
   }
  },
  {
   "cell_type": "code",
   "execution_count": 25,
   "outputs": [
    {
     "name": "stdout",
     "output_type": "stream",
     "text": [
      "Epoch 5/10\n",
      "237/237 [==============================] - 151s 628ms/step - loss: 1.2090 - accuracy: 0.6825 - val_loss: 1.7485 - val_accuracy: 0.5373\n",
      "Epoch 6/10\n",
      "237/237 [==============================] - 152s 641ms/step - loss: 1.0965 - accuracy: 0.7059 - val_loss: 1.7195 - val_accuracy: 0.5456\n",
      "Epoch 7/10\n",
      "237/237 [==============================] - 165s 699ms/step - loss: 1.0166 - accuracy: 0.7316 - val_loss: 1.7569 - val_accuracy: 0.5410\n",
      "Epoch 8/10\n",
      "237/237 [==============================] - 190s 801ms/step - loss: 0.9498 - accuracy: 0.7436 - val_loss: 1.7045 - val_accuracy: 0.5516\n",
      "Epoch 9/10\n",
      "237/237 [==============================] - 194s 818ms/step - loss: 0.8884 - accuracy: 0.7642 - val_loss: 1.7446 - val_accuracy: 0.5440\n",
      "Epoch 10/10\n",
      "237/237 [==============================] - 201s 847ms/step - loss: 0.8290 - accuracy: 0.7719 - val_loss: 1.7653 - val_accuracy: 0.5371\n"
     ]
    }
   ],
   "source": [
    "# Fine-tune for 5 more epochs\n",
    "fine_tune_epochs = 10 # model has already done 5 epochs, this is the total number of epochs we're after (5+5=10)\n",
    "\n",
    "history_all_classes_10_percent_fine_tune = model.fit(train_data_all_10_percent,\n",
    "                                                     epochs=fine_tune_epochs,\n",
    "                                                     validation_data=test_data,\n",
    "                                                     validation_steps=int(0.15 * len(test_data)), # validate on 15% of the test data\n",
    "                                                     initial_epoch=history_all_classes_10_percent.epoch[-1]) # st"
   ],
   "metadata": {
    "collapsed": false,
    "ExecuteTime": {
     "end_time": "2023-06-21T17:08:28.011103Z",
     "start_time": "2023-06-21T16:50:55.365604Z"
    }
   }
  },
  {
   "cell_type": "code",
   "execution_count": null,
   "outputs": [
    {
     "name": "stdout",
     "output_type": "stream",
     "text": [
      " 40/790 [>.............................] - ETA: 6:00 - loss: 2.0851 - accuracy: 0.4625"
     ]
    }
   ],
   "source": [
    "results_all_classes_10_percent_fine_tune = model.evaluate(test_data)\n",
    "results_all_classes_10_percent_fine_tune"
   ],
   "metadata": {
    "collapsed": false,
    "is_executing": true,
    "ExecuteTime": {
     "start_time": "2023-06-21T17:08:28.014407Z"
    }
   }
  },
  {
   "cell_type": "code",
   "execution_count": null,
   "outputs": [],
   "source": [
    "compare_historys(original_history=history_all_classes_10_percent,\n",
    "                 new_history=history_all_classes_10_percent_fine_tune,\n",
    "                 initial_epochs=5)"
   ],
   "metadata": {
    "collapsed": false,
    "is_executing": true
   }
  },
  {
   "cell_type": "markdown",
   "source": [
    "# Saving and loading our trained model"
   ],
   "metadata": {
    "collapsed": false
   }
  },
  {
   "cell_type": "code",
   "execution_count": null,
   "outputs": [],
   "source": [
    "folder_path = \"fine_tune_3\"\n",
    "os.makedirs(folder_path, exist_ok=True)\n",
    "\n",
    "# Save the model\n",
    "model.save(os.path.join(folder_path, \"fine_tune_3_model\"))"
   ],
   "metadata": {
    "collapsed": false,
    "is_executing": true
   }
  },
  {
   "cell_type": "code",
   "execution_count": null,
   "outputs": [],
   "source": [
    "# Load the model\n",
    "loaded_model = tf.keras.models.load_model(\"fine_tune_3/fine_tune_3_model\")"
   ],
   "metadata": {
    "collapsed": false,
    "is_executing": true
   }
  },
  {
   "cell_type": "code",
   "execution_count": null,
   "outputs": [],
   "source": [
    "# Check to see if loaded model is a trained model\n",
    "loaded_loss, loaded_accuracy = model.evaluate(test_data)\n",
    "loaded_loss, loaded_accuracy"
   ],
   "metadata": {
    "collapsed": false,
    "is_executing": true
   }
  }
 ],
 "metadata": {
  "kernelspec": {
   "display_name": "Python 3",
   "language": "python",
   "name": "python3"
  },
  "language_info": {
   "codemirror_mode": {
    "name": "ipython",
    "version": 2
   },
   "file_extension": ".py",
   "mimetype": "text/x-python",
   "name": "python",
   "nbconvert_exporter": "python",
   "pygments_lexer": "ipython2",
   "version": "2.7.6"
  }
 },
 "nbformat": 4,
 "nbformat_minor": 0
}
